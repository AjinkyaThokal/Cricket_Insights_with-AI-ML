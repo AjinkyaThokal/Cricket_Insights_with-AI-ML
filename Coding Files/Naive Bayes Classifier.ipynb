{
 "cells": [
  {
   "cell_type": "markdown",
   "id": "2130ae1d",
   "metadata": {},
   "source": [
    "# Naive Bayes Classifier"
   ]
  },
  {
   "cell_type": "markdown",
   "id": "567591f9",
   "metadata": {},
   "source": [
    "### Why Naive Bayes Classifier is Used\n",
    "\n",
    "For this specific task of predicting the total runs in a cricket match, we chose the Naive Bayes Classifier due to the following reasons:\n",
    "\n",
    "1. **Handling Categorical Features**:\n",
    "   - Numerous categorical characteristics, including \"city,\" \"team1,\" \"team2,\" \"toss_winner,\" \"toss_decision,\" and \"winner,\" are present in our dataset. When dealing with categorical data, Naive Bayes performs admirably, particularly after one-hot encoding.\n",
    "\n",
    "2. **Computational Efficiency**:\n",
    "   - We required a computationally efficient technique due to the magnitude of the dataset. Large datasets can benefit from Naive Bayes because of its reputation for quick training and prediction times.\n",
    "\n",
    "3. **Baseline Comparison**:\n",
    "   - The basic Naive Bayes model can be used as a benchmark when comparing it to more intricate models. It offers a useful beginning point for comprehending the dataset and establishing an accuracy standard.\n",
    "\n",
    "4. **Simplicity and Interpretability**:\n",
    "   - Naive Bayes is simple to use and interpret because of this. This facilitates swiftly gaining insights and comprehending the model's prediction process.\n",
    "\n",
    "5. **Initial Performance Indication**:\n",
    "   - Naive Bayes frequently offers respectable starting performance that can be improved upon. Before using more complex models, it aids in determining the fundamental patterns and correlations in the data.\n"
   ]
  },
  {
   "cell_type": "code",
   "execution_count": 2,
   "id": "b3fdca71",
   "metadata": {},
   "outputs": [
    {
     "name": "stdout",
     "output_type": "stream",
     "text": [
      "Columns in merged data: ['id', 'season', 'city', 'date', 'team1', 'team2', 'toss_winner', 'toss_decision', 'result', 'dl_applied', 'winner', 'win_by_runs', 'win_by_wickets', 'player_of_match', 'venue', 'umpire1', 'umpire2', 'umpire3', 'total_runs']\n",
      "   id  season       city        date                        team1  \\\n",
      "0   1    2017  Hyderabad  2017-04-05          Sunrisers Hyderabad   \n",
      "1   2    2017       Pune  2017-04-06               Mumbai Indians   \n",
      "2   3    2017     Rajkot  2017-04-07                Gujarat Lions   \n",
      "3   4    2017     Indore  2017-04-08       Rising Pune Supergiant   \n",
      "4   5    2017  Bangalore  2017-04-08  Royal Challengers Bangalore   \n",
      "\n",
      "                         team2                  toss_winner toss_decision  \\\n",
      "0  Royal Challengers Bangalore  Royal Challengers Bangalore         field   \n",
      "1       Rising Pune Supergiant       Rising Pune Supergiant         field   \n",
      "2        Kolkata Knight Riders        Kolkata Knight Riders         field   \n",
      "3              Kings XI Punjab              Kings XI Punjab         field   \n",
      "4             Delhi Daredevils  Royal Challengers Bangalore           bat   \n",
      "\n",
      "   result  dl_applied                       winner  win_by_runs  \\\n",
      "0  normal           0          Sunrisers Hyderabad           35   \n",
      "1  normal           0       Rising Pune Supergiant            0   \n",
      "2  normal           0        Kolkata Knight Riders            0   \n",
      "3  normal           0              Kings XI Punjab            0   \n",
      "4  normal           0  Royal Challengers Bangalore           15   \n",
      "\n",
      "   win_by_wickets player_of_match                                      venue  \\\n",
      "0               0    Yuvraj Singh  Rajiv Gandhi International Stadium, Uppal   \n",
      "1               7       SPD Smith    Maharashtra Cricket Association Stadium   \n",
      "2              10         CA Lynn     Saurashtra Cricket Association Stadium   \n",
      "3               6      GJ Maxwell                     Holkar Cricket Stadium   \n",
      "4               0       KM Jadhav                      M Chinnaswamy Stadium   \n",
      "\n",
      "          umpire1        umpire2  umpire3  total_runs  \n",
      "0     AY Dandekar       NJ Llong      NaN         379  \n",
      "1  A Nand Kishore         S Ravi      NaN         371  \n",
      "2     Nitin Menon      CK Nandan      NaN         367  \n",
      "3    AK Chaudhary  C Shamshuddin      NaN         327  \n",
      "4             NaN            NaN      NaN         299  \n"
     ]
    }
   ],
   "source": [
    "import pandas as pd\n",
    "import numpy as np\n",
    "from sklearn.model_selection import train_test_split\n",
    "from sklearn.naive_bayes import GaussianNB\n",
    "from sklearn.metrics import accuracy_score, confusion_matrix, classification_report\n",
    "import matplotlib.pyplot as plt\n",
    "import seaborn as sns\n",
    "\n",
    "# Load the datasets\n",
    "deliveries = pd.read_csv('deliveries.csv')\n",
    "matches = pd.read_csv('matches.csv')\n",
    "\n",
    "# Calculate the total runs for each match from deliveries\n",
    "total_runs_per_match = deliveries.groupby('match_id')['total_runs'].sum().reset_index()\n",
    "total_runs_per_match.columns = ['id', 'total_runs']\n",
    "\n",
    "# Merge the total runs with the matches data\n",
    "merged_data = pd.merge(matches, total_runs_per_match, on='id')\n",
    "\n",
    "# Print the column names of the merged dataset\n",
    "print(\"Columns in merged data:\", merged_data.columns.tolist())\n",
    "\n",
    "# Have a look at the first few rows of the merged dataset\n",
    "print(merged_data.head())\n",
    "\n",
    "# Select relevant features for predicting total runs\n",
    "features = ['season', 'city', 'team1', 'team2', 'toss_winner', 'toss_decision', 'winner']\n",
    "target = 'total_runs'\n",
    "\n",
    "# Manually encode categorical variables using dummy variables (one-hot encoding)\n",
    "cities = pd.get_dummies(merged_data['city'], prefix='city')\n",
    "team1 = pd.get_dummies(merged_data['team1'], prefix='team1')\n",
    "team2 = pd.get_dummies(merged_data['team2'], prefix='team2')\n",
    "toss_winner = pd.get_dummies(merged_data['toss_winner'], prefix='toss_winner')\n",
    "toss_decision = pd.get_dummies(merged_data['toss_decision'], prefix='toss_decision')\n",
    "winner = pd.get_dummies(merged_data['winner'], prefix='winner')\n",
    "\n",
    "# Combine all features into one dataframe\n",
    "data = pd.concat([merged_data, cities, team1, team2, toss_winner, toss_decision, winner], axis=1)\n",
    "\n",
    "# Convert total runs into a categorical variable for classification\n",
    "bins = [0, 100, 150, 200, 250, 300, 350, 400]\n",
    "labels = ['0-100', '101-150', '151-200', '201-250', '251-300', '301-350', '351-400']\n",
    "data['total_runs_binned'] = pd.cut(data['total_runs'], bins=bins, labels=labels)\n",
    "\n",
    "# Encode the categorical target variable\n",
    "data['total_runs_binned'] = data['total_runs_binned'].astype('category')\n",
    "data['total_runs_binned_cat'] = data['total_runs_binned'].cat.codes\n",
    "\n",
    "# Define features (X) and target (y)\n",
    "X = data.drop(columns=['id', 'date', 'result', 'dl_applied', 'win_by_runs', 'win_by_wickets', 'player_of_match', 'venue', 'umpire1', 'umpire2', 'umpire3', 'total_runs', 'city', 'team1', 'team2', 'toss_winner', 'toss_decision', 'winner', 'total_runs_binned'])\n",
    "y = data['total_runs_binned_cat']\n",
    "\n",
    "# Ensure no missing values\n",
    "X = X.fillna(0)\n",
    "\n",
    "# Convert to numpy arrays\n",
    "X = np.array(X)\n",
    "y = np.array(y)\n",
    "\n",
    "# Split the data into training and testing sets\n",
    "X_train, X_test, y_train, y_test = train_test_split(X, y, test_size=0.2, random_state=42)\n",
    "\n",
    "# Initialize the Naive Bayes Classifier\n",
    "nb = GaussianNB()\n",
    "\n",
    "# Train the model\n",
    "nb.fit(X_train, y_train)\n",
    "\n",
    "# Predict on the test set\n",
    "y_pred = nb.predict(X_test)\n",
    "\n",
    "# Calculate evaluation metrics\n",
    "accuracy = accuracy_score(y_test, y_pred)\n",
    "conf_matrix = confusion_matrix(y_test, y_pred)\n",
    "class_report = classification_report(y_test, y_pred, zero_division=1)  # Set zero_division to handle undefined metrics"
   ]
  },
  {
   "cell_type": "code",
   "execution_count": 3,
   "id": "814bd02d",
   "metadata": {},
   "outputs": [
    {
     "name": "stdout",
     "output_type": "stream",
     "text": [
      "Accuracy: 0.9296875\n",
      "Confusion Matrix:\n",
      "[[ 3  0  0  0  0  0  0]\n",
      " [ 0  0  1  0  0  0  0]\n",
      " [ 0  0  6  1  0  0  0]\n",
      " [ 0  0  1  9  1  0  0]\n",
      " [ 0  0  0  4 34  0  0]\n",
      " [ 0  0  0  0  1 46  0]\n",
      " [ 0  0  0  0  0  0 21]]\n",
      "Classification Report:\n",
      "              precision    recall  f1-score   support\n",
      "\n",
      "          -1       1.00      1.00      1.00         3\n",
      "           1       1.00      0.00      0.00         1\n",
      "           2       0.75      0.86      0.80         7\n",
      "           3       0.64      0.82      0.72        11\n",
      "           4       0.94      0.89      0.92        38\n",
      "           5       1.00      0.98      0.99        47\n",
      "           6       1.00      1.00      1.00        21\n",
      "\n",
      "    accuracy                           0.93       128\n",
      "   macro avg       0.91      0.79      0.78       128\n",
      "weighted avg       0.94      0.93      0.93       128\n",
      "\n"
     ]
    }
   ],
   "source": [
    "print(f'Accuracy: {accuracy}')\n",
    "print('Confusion Matrix:')\n",
    "print(conf_matrix)\n",
    "print('Classification Report:')\n",
    "print(class_report)"
   ]
  },
  {
   "cell_type": "code",
   "execution_count": 4,
   "id": "0dc508dc",
   "metadata": {
    "scrolled": true
   },
   "outputs": [
    {
     "data": {
      "image/png": "[encoded data removed]",
      "text/plain": [
       "<Figure size 1000x600 with 2 Axes>"
      ]
     },
     "metadata": {},
     "output_type": "display_data"
    }
   ],
   "source": [
    "# Plot confusion matrix\n",
    "plt.figure(figsize=(10, 6))\n",
    "sns.heatmap(conf_matrix, annot=True, fmt='d', cmap='Blues', xticklabels=labels, yticklabels=labels)\n",
    "plt.xlabel('Predicted')\n",
    "plt.ylabel('Actual')\n",
    "plt.title('Confusion Matrix')\n",
    "plt.show()"
   ]
  },
  {
   "cell_type": "markdown",
   "id": "ccd461b4",
   "metadata": {},
   "source": [
    "### Insights:\n",
    "\n",
    "1. **Overall Accuracy**:\n",
    "   - With an accuracy of 92.97%, the model was able to accurately forecast the total runs category in a sizable majority of the matches.\n",
    "\n",
    "2. **Confusion Matrix**:\n",
    "   - The distribution of expected vs. actual categories of total runs is displayed in the confusion matrix.\n",
    "  \n",
    "   - **High Accuracy in Major Categories**: With 34 and 46 correct predictions, respectively, out of 34 and 46 real instances, the model did remarkably well in forecasting the 301-350 and 351-400 runs categories.\n",
    "  \n",
    "   - **Misclassifications**: There are a few misclassifications where the predictions were dispersed over nearby categories, especially in the 151-200 and 201-250 runs categories.\n",
    "\n",
    "3. **Classification Report**:\n",
    "   - **Precision**: The model's efficacy in the highest frequency categories (301-350 and 351-400) is demonstrated by the excellent precision for these categories.\n",
    "   \n",
    "   - **Recall**: Additionally, the model's recall for the 301-350 and 351-400 categories is strong, suggesting that it is capable of accurately detecting instances of these categories.\n",
    "   \n",
    "   - **F1-Score**: For the categories with more instances, the F1-score—the harmonic mean of memory and accuracy—is higher, indicating a balance between recall and precision.\n",
    "   \n",
    "   - **Low Scoring Categories**: The model performed well across most categories, but it showed poor precision for category 1 due to a low number of instances in this category.\n",
    "\n",
    "4. **Macro and Weighted Averages**:\n",
    "   - **Macro Average**: The model performs moderately when all categories are taken into account, according to the macro average F1-score of 0.78.\n",
    "   \n",
    "   - **Weighted Average**: The weighted average F1-score of 0.93 shows that the model performs well overall when accounting for the quantity of occurrences in each category.\n",
    "\n",
    "\n",
    "### Conclusion\n",
    "\n",
    "Strong performance is shown by the Naive Bayes Classifier, especially when it comes to forecasting the most prevalent run types (301-350 and 351-400 runs). The model appears to be dependable for forecasting high-scoring matches based on its high precision and recall for these categories. It has space for development in the less common categories, though, where it stumbles. Overall, the model performs marginally better than the Random Forest Classifier in this situation, which makes it a good option for this classification assignment because to its accuracy and weighted F1-score."
   ]
  }
 ],
 "metadata": {
  "kernelspec": {
   "display_name": "Python 3 (ipykernel)",
   "language": "python",
   "name": "python3"
  },
  "language_info": {
   "codemirror_mode": {
    "name": "ipython",
    "version": 3
   },
   "file_extension": ".py",
   "mimetype": "text/x-python",
   "name": "python",
   "nbconvert_exporter": "python",
   "pygments_lexer": "ipython3",
   "version": "3.11.5"
  }
 },
 "nbformat": 4,
 "nbformat_minor": 5
}
